{
 "cells": [
  {
   "cell_type": "code",
   "execution_count": 66,
   "metadata": {},
   "outputs": [
    {
     "name": "stdout",
     "output_type": "stream",
     "text": [
      "Ana\n",
      "Bruno\n"
     ]
    }
   ],
   "source": [
    "\n",
    "#LISTAS\n",
    "\n",
    "alunos = ['Ana', 'Amanda', 'Bruno', 'João']\n",
    "notas = [10, 9, 8, 7]\n",
    "\n",
    "#Exibir a terceira nota da lista notas\n",
    "\n",
    "print(alunos[0])\n",
    "\n",
    "#Exibir a terceira nota da lista notas\n",
    "\n",
    "print(alunos[2])\n",
    "\n"
   ]
  },
  {
   "cell_type": "code",
   "execution_count": 67,
   "metadata": {},
   "outputs": [
    {
     "data": {
      "text/plain": [
       "['Amanda', 'Bruno', 'João']"
      ]
     },
     "execution_count": 67,
     "metadata": {},
     "output_type": "execute_result"
    }
   ],
   "source": [
    "#Selecionar uma fatia dos dados (Amanda e Bruno)\n",
    "\n",
    "alunos[1:23]\n"
   ]
  },
  {
   "cell_type": "code",
   "execution_count": 68,
   "metadata": {},
   "outputs": [
    {
     "data": {
      "text/plain": [
       "['Bruno', 'João']"
      ]
     },
     "execution_count": 68,
     "metadata": {},
     "output_type": "execute_result"
    }
   ],
   "source": [
    "#Selecionar apenas os nomes Bruno e João \n",
    "\n",
    "alunos[2:]"
   ]
  },
  {
   "cell_type": "code",
   "execution_count": 69,
   "metadata": {},
   "outputs": [
    {
     "data": {
      "text/plain": [
       "list"
      ]
     },
     "execution_count": 69,
     "metadata": {},
     "output_type": "execute_result"
    }
   ],
   "source": [
    "#Identificando o tipo de informação\n",
    "\n",
    "type(notas)\n"
   ]
  },
  {
   "cell_type": "code",
   "execution_count": 70,
   "metadata": {},
   "outputs": [
    {
     "name": "stdout",
     "output_type": "stream",
     "text": [
      "Santos\n"
     ]
    }
   ],
   "source": [
    "#Exercício 01 - Crie uma lista com nomes de 4 times de futebol.\n",
    "\n",
    "#a) Palmeiras\n",
    "#b) São Paulo\n",
    "#c) Santos\n",
    "#d) Corinthians\n",
    "#e) Acesse o time que está na 3a posição.\n",
    "#f) Crie uma lista com duas listas de 3 times de futebol, cada uma de uma divisão diferente.\n",
    "\n",
    "times = ['Palmeiras', 'São Paulo', 'Santos', 'Corinthians']\n",
    "\n",
    "print(times[2])\n",
    "\n"
   ]
  },
  {
   "cell_type": "code",
   "execution_count": 71,
   "metadata": {},
   "outputs": [
    {
     "name": "stdout",
     "output_type": "stream",
     "text": [
      "[['Palmeiras', 'São Paulo', 'Santos', 'Corinthians'], ['Guarani', 'Curitiba', 'Sport', 'Juventude']]\n"
     ]
    }
   ],
   "source": [
    "serie_A = ['Palmeiras', 'São Paulo', 'Santos', 'Corinthians']\n",
    "serie_B = ['Guarani', 'Curitiba', 'Sport', 'Juventude']\n",
    "\n",
    "lista_times = [serie_A, serie_B]\n",
    "\n",
    "\n",
    "print(lista_times)"
   ]
  },
  {
   "cell_type": "code",
   "execution_count": 72,
   "metadata": {},
   "outputs": [
    {
     "data": {
      "text/plain": [
       "'Santos'"
      ]
     },
     "execution_count": 72,
     "metadata": {},
     "output_type": "execute_result"
    }
   ],
   "source": [
    "lista_times[0][2]"
   ]
  },
  {
   "cell_type": "code",
   "execution_count": 73,
   "metadata": {},
   "outputs": [
    {
     "data": {
      "text/plain": [
       "['Dolar', 'Real', 'Libra', 'Peso', 'Rand']"
      ]
     },
     "execution_count": 73,
     "metadata": {},
     "output_type": "execute_result"
    }
   ],
   "source": [
    "#Exercício 02 - Crie uma lista com 3 diferentes moedas. Acrescente mais 2 outras moedas à essa mesma lista.\n",
    "\n",
    "moeda = ['Dolar', 'Real', 'Libra']\n",
    "\n",
    "moeda.append('Peso')\n",
    "moeda.append('Rand')\n",
    "\n",
    "moeda\n",
    "\n"
   ]
  },
  {
   "cell_type": "code",
   "execution_count": 80,
   "metadata": {},
   "outputs": [
    {
     "name": "stdout",
     "output_type": "stream",
     "text": [
      "Batata;Óleo;Margarina;Café\n",
      "<class 'str'>\n"
     ]
    }
   ],
   "source": [
    "#Exercício 03 - Crie uma string com a lista do exercício anterior.\n",
    "\n",
    "supermercado = ['Batata', 'Óleo', 'Margarina', 'Café']\n",
    "\n",
    "listaConvertida = \";\".join(supermercado)\n",
    "\n",
    "print(listaConvertida)\n",
    "\n",
    "print(type(listaConvertida))\n",
    "\n",
    "\n"
   ]
  },
  {
   "cell_type": "code",
   "execution_count": 81,
   "metadata": {},
   "outputs": [
    {
     "name": "stdout",
     "output_type": "stream",
     "text": [
      "['Batata', 'Óleo', 'Margarina', 'Café']\n",
      "<class 'list'>\n"
     ]
    }
   ],
   "source": [
    "#Exercício 04 - Crie uma string com a lista do exercício anterior.\n",
    "\n",
    "\n",
    "lista = listaConvertida.split(';')\n",
    "\n",
    "print(lista)\n",
    "\n",
    "print(type(lista))\n",
    "\n"
   ]
  },
  {
   "cell_type": "code",
   "execution_count": null,
   "metadata": {},
   "outputs": [],
   "source": [
    "#Exercício 05 - Crie um dicionário chamado cardápio em que as chaves são os dias da semana e os respectivos valores sejam os pratos do dia.\n",
    "\n"
   ]
  },
  {
   "cell_type": "markdown",
   "metadata": {},
   "source": [
    "Tuplas (tuple)\n",
    "\n",
    "- Criamos utilizando parenteses\n",
    "\n",
    "- Separamos\n",
    "\n",
    "- Após sua definição, não podemos alterar sua estrutura\n",
    "\n",
    "\n"
   ]
  },
  {
   "cell_type": "code",
   "execution_count": 85,
   "metadata": {},
   "outputs": [
    {
     "name": "stdout",
     "output_type": "stream",
     "text": [
      "<class 'tuple'>\n",
      "<class 'tuple'>\n"
     ]
    }
   ],
   "source": [
    "valores = (90, 79, 54, 32, 21)\n",
    "pontos = (100, 94, 5, 86, 8, 62)\n",
    "\n",
    "print(type(valores))\n",
    "\n",
    "print(type(pontos))"
   ]
  },
  {
   "cell_type": "code",
   "execution_count": 99,
   "metadata": {},
   "outputs": [
    {
     "name": "stdout",
     "output_type": "stream",
     "text": [
      "[10, 2]\n",
      "Não é possível modificar uma tupla\n"
     ]
    }
   ],
   "source": [
    "my_list = [1,2]\n",
    "\n",
    "my_tuple = (1,2)\n",
    "\n",
    "my_list[0] = 10\n",
    "\n",
    "print(my_list)\n",
    "\n",
    "try:\n",
    "    \n",
    "    my_tuple[1] = 3\n",
    "    except TypeError:\n",
    "    \n",
    "    print('Não é possível modificar uma tupla')\n",
    "    "
   ]
  },
  {
   "cell_type": "code",
   "execution_count": 111,
   "metadata": {},
   "outputs": [],
   "source": [
    "def sum_and_product (x,y):\n",
    "\n",
    "    return (x + y), (x * y)"
   ]
  },
  {
   "cell_type": "code",
   "execution_count": 116,
   "metadata": {},
   "outputs": [
    {
     "name": "stdout",
     "output_type": "stream",
     "text": [
      "(15, 50)\n",
      "<class 'tuple'>\n"
     ]
    }
   ],
   "source": [
    "print(sum_and_product (10,5))\n",
    "print(type(sum_and_product (10,5)))\n"
   ]
  },
  {
   "cell_type": "code",
   "execution_count": 135,
   "metadata": {},
   "outputs": [
    {
     "name": "stdout",
     "output_type": "stream",
     "text": [
      "<class 'dict'>\n",
      "<class 'dict'>\n"
     ]
    }
   ],
   "source": [
    "##Dicionarios\n",
    "\n",
    "#Dicionarios são estruturas chave: Valor que permite associar valores a um identificador.\n",
    "\n",
    "   #- É criado com chaves {}\n",
    "   \n",
    "   # Permite alteração\n",
    "   \n",
    "#ex: {'Ana' : 10, 'Jorge' : 5, 'Maria' : 10}\n",
    "\n",
    "\n",
    "altura = {\n",
    "    'Amanda': 1.65,\n",
    "    'Ana' : 1.60,\n",
    "    'João' : 1.50\n",
    "}\n",
    "\n",
    "peso = {\n",
    "    'Amanda': 60,\n",
    "    'Ana' : 58,\n",
    "    'João' : 100\n",
    "}\n",
    "\n",
    "print(type(altura))\n",
    "print(type(peso))\n"
   ]
  },
  {
   "cell_type": "code",
   "execution_count": 118,
   "metadata": {},
   "outputs": [
    {
     "name": "stdout",
     "output_type": "stream",
     "text": [
      "1.6\n",
      "58\n"
     ]
    }
   ],
   "source": [
    "print(altura['Ana'])\n",
    "print(peso['Ana'])"
   ]
  },
  {
   "cell_type": "code",
   "execution_count": 137,
   "metadata": {},
   "outputs": [
    {
     "name": "stdout",
     "output_type": "stream",
     "text": [
      "['lasanha congelada', 'feijoada', 'sarapatel']\n"
     ]
    }
   ],
   "source": [
    "exemplo = {\n",
    "    \n",
    "    'seg' : ['lasanha congelada', 'feijoada', 'sarapatel'],\n",
    "    \n",
    "    'ter' : ['Pastel de frango', 'pão com ovo', 'miojo gourmet']   \n",
    "    \n",
    "    \n",
    "}\n",
    "\n",
    "\n",
    "print(exemplo['seg'])"
   ]
  }
 ],
 "metadata": {
  "kernelspec": {
   "display_name": "Python 3",
   "language": "python",
   "name": "python3"
  },
  "language_info": {
   "codemirror_mode": {
    "name": "ipython",
    "version": 3
   },
   "file_extension": ".py",
   "mimetype": "text/x-python",
   "name": "python",
   "nbconvert_exporter": "python",
   "pygments_lexer": "ipython3",
   "version": "3.11.0"
  }
 },
 "nbformat": 4,
 "nbformat_minor": 2
}
